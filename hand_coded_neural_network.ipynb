{
 "cells": [
  {
   "cell_type": "markdown",
   "metadata": {},
   "source": [
    "### Dataset info\n",
    "- Number of images: 20,580\n",
    "- Number of labels: 120 (need 7 nodes to represent in binary)\n",
    "- Files list: the names of the files (with jpg)\n",
    "- Annotation list: the name of the files (without jpg)\n",
    "- Labels: image labels (1-120)\n",
    "\n",
    "Need to get all images to be the same size:\n",
    "- Lossy: crop or downsample\n",
    "- Additive: add whitespace around image\n",
    "\n",
    "Misclassifed:\n",
    "n02095314_80: wire fox terrier -> irish terrier"
   ]
  },
  {
   "cell_type": "code",
   "execution_count": 172,
   "metadata": {},
   "outputs": [],
   "source": [
    "import numpy as np\n",
    "import pandas as pd\n",
    "import scipy.io as sio\n",
    "import matplotlib.pyplot as plt\n",
    "import imageio\n",
    "import os\n",
    "import bs4\n",
    "\n",
    "%matplotlib inline"
   ]
  },
  {
   "cell_type": "code",
   "execution_count": 173,
   "metadata": {},
   "outputs": [],
   "source": [
    "REPO_DIR = '/Users/jampp/workspace/breed-all-about-it/'\n",
    "files_mat = sio.loadmat(os.path.join(REPO_DIR, 'data', 'lists', 'file_list.mat'))"
   ]
  },
  {
   "cell_type": "code",
   "execution_count": 199,
   "metadata": {},
   "outputs": [],
   "source": [
    "# annotations\n",
    "annotations = np.zeros(files_mat['annotation_list'].shape[0], dtype='<U100')\n",
    "for i, annotation in enumerate(files_mat['annotation_list'][:,0]):\n",
    "    annotations[i] = annotation[0]\n",
    "    \n",
    "# file names\n",
    "files = np.zeros(files_mat['file_list'].shape[0], dtype='<U100')\n",
    "for i, file in enumerate(files_mat['file_list'][:,0]):\n",
    "    files[i] = file[0]\n",
    "    \n",
    "# array of labels\n",
    "labels = files_mat['labels'][:,0]"
   ]
  },
  {
   "cell_type": "code",
   "execution_count": 224,
   "metadata": {
    "collapsed": true
   },
   "outputs": [],
   "source": [
    "np.squeeze?"
   ]
  },
  {
   "cell_type": "code",
   "execution_count": 225,
   "metadata": {
    "scrolled": false
   },
   "outputs": [],
   "source": [
    "def crop_images(files, annotations, directory): \n",
    "    \"\"\"\n",
    "    Crop image to the specifications given in the annotations.\n",
    "    \n",
    "    Parameters:\n",
    "    -----------\n",
    "    files\n",
    "    annotations\n",
    "    \n",
    "    Returns:\n",
    "    --------\n",
    "    None\n",
    "    \"\"\"\n",
    "    for i in range(13673, len(files)):\n",
    "        original_image = imageio.imread(os.path.join(REPO_DIR, 'data', 'Images', files[i]))\n",
    "        annotation = annotations[i]\n",
    "        f = open(os.path.join(REPO_DIR, 'data', 'Annotation', annotations[i]), 'r')\n",
    "        soup = bs4.BeautifulSoup(f, 'lxml')\n",
    "        xmin = int(soup.bndbox.xmin.contents[0])\n",
    "        xmax = int(soup.bndbox.xmax.contents[0])\n",
    "        ymin = int(soup.bndbox.ymin.contents[0])\n",
    "        ymax = int(soup.bndbox.ymax.contents[0])\n",
    "        cropped_image = original_image[ymin:ymax, xmin:xmax, :3]\n",
    "        os.makedirs(os.path.dirname(os.path.join(directory, 'data', 'Crops', files[i])), exist_ok=True)\n",
    "        try:\n",
    "            imageio.imwrite(os.path.join(directory, 'data', 'Crops', files[i]), cropped_image)\n",
    "        except OSError:\n",
    "            print(i)"
   ]
  },
  {
   "cell_type": "code",
   "execution_count": 226,
   "metadata": {
    "collapsed": true
   },
   "outputs": [],
   "source": [
    "# crop_images(files, annotations, REPO_DIR)"
   ]
  },
  {
   "cell_type": "code",
   "execution_count": null,
   "metadata": {
    "collapsed": true
   },
   "outputs": [],
   "source": [
    "# Next step: resize images"
   ]
  }
 ],
 "metadata": {
  "kernelspec": {
   "display_name": "Python 3",
   "language": "python",
   "name": "python3"
  },
  "language_info": {
   "codemirror_mode": {
    "name": "ipython",
    "version": 3
   },
   "file_extension": ".py",
   "mimetype": "text/x-python",
   "name": "python",
   "nbconvert_exporter": "python",
   "pygments_lexer": "ipython3",
   "version": "3.6.4"
  }
 },
 "nbformat": 4,
 "nbformat_minor": 2
}
